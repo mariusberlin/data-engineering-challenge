{
 "cells": [
  {
   "cell_type": "code",
   "execution_count": 24,
   "metadata": {},
   "outputs": [],
   "source": [
    "import re"
   ]
  },
  {
   "cell_type": "code",
   "execution_count": 155,
   "metadata": {},
   "outputs": [
    {
     "name": "stdout",
     "output_type": "stream",
     "text": [
      "general: she is a pleasant elderly woman, currently in no acute distress. vital signs: height 4 feet 11 inches, weight 128 pounds, temperature 97.2 degrees fahrenheit, blood pressure 142/70, pulse 47, respiratory rate 16, and o2 saturation 100%\n"
     ]
    }
   ],
   "source": [
    "with open('medreport2.txt') as f:\n",
    "    report = f.read()\n",
    "    report = report.lower()\n",
    "    print(report)"
   ]
  },
  {
   "cell_type": "code",
   "execution_count": 156,
   "metadata": {},
   "outputs": [],
   "source": [
    "def prefix_check(report,cand_position,prefixes,prefix_distance):\n",
    "    prefix_state = False\n",
    "    for prefix in prefixes:\n",
    "        if report[cand_position-prefix_distance:cand_position].find(prefix) != -1:\n",
    "            prefix_state = True\n",
    "    return prefix_state  \n",
    "\n",
    "def suffix_check(report,cand_position,suffixes,suffix_distance):\n",
    "    suffix_state = False\n",
    "    for suffix in suffixes:\n",
    "        if report[cand_position:cand_position+len(candidate)+suffix_distance].find(suffix) !=-1:\n",
    "            suffix_state = True\n",
    "    return suffix_state \n",
    "            \n",
    "def exception_check(report,cand_position,exception,exception_distance):\n",
    "    exception_state = False\n",
    "    for ex in exception:\n",
    "        if report[cand_position-temp_exception_distance:cand_position+len(temp)+temp_exception_distance].find(ex) != -1:\n",
    "            exception_state = True\n",
    "    return exception_state \n",
    "        "
   ]
  },
  {
   "cell_type": "code",
   "execution_count": null,
   "metadata": {},
   "outputs": [],
   "source": []
  },
  {
   "cell_type": "code",
   "execution_count": 168,
   "metadata": {},
   "outputs": [
    {
     "name": "stdout",
     "output_type": "stream",
     "text": [
      "['97.2']\n",
      "Temperature:  97.2\n"
     ]
    }
   ],
   "source": [
    "temp_candidates = re.findall('\\d{2,3}\\.\\d{1}',report)\n",
    "print(temp_candidates)\n",
    "\n",
    "temp_prefixes = [\"temperature\"] #also covers:, \"temperature is\", \"temperature was\",\"temperature of\", \"temperature:\"\n",
    "temp_prefix_distance = 20\n",
    "temp_suffixes =[\"deg\",\"celsius\",\"fahrenheit\"] #also covers:\"degree\",\"degrees\"\n",
    "temp_suffix_distance = 15\n",
    "temp_exception =[\"down from\",\"gained\",\"increased\",\"decreased\",\"days ago\",\"week ago\"] #includes increased by, increased to\n",
    "temp_exception_distance = 30\n",
    "return_values = []\n",
    "\n",
    "for candidate in temp_candidates:\n",
    "    \n",
    "    \n",
    "    cand_position = report.find(candidate)\n",
    "\n",
    "    #check temperature prefix/suffix/exception\n",
    "    prefix_state = prefix_check(report=report,cand_position=cand_position,prefixes=temp_prefixes,prefix_distance=temp_prefix_distance)\n",
    "    suffix_state = suffix_check(report,cand_position=cand_position,suffixes=temp_suffixes,suffix_distance=temp_suffix_distance)        \n",
    "    exception_state = exception_check(report,cand_position= cand_position,exception =temp_exception, exception_distance=temp_exception_distance)\n",
    "    \n",
    "    if (prefix_state or suffix_state == True) & exception_state == False:\n",
    "        return_values.append(candidate)\n",
    "\n",
    "        print(\"Temperature: \", return_values[0])\n",
    "    \n",
    "if len(return_values) == 0:\n",
    "    print(\"No value was found.\")\n",
    "        \n",
    "    \n",
    "    \n",
    "\n",
    "\n"
   ]
  },
  {
   "cell_type": "code",
   "execution_count": 153,
   "metadata": {},
   "outputs": [
    {
     "ename": "IndentationError",
     "evalue": "expected an indented block (<ipython-input-153-b5c0929066c5>, line 15)",
     "output_type": "error",
     "traceback": [
      "\u001b[1;36m  File \u001b[1;32m\"<ipython-input-153-b5c0929066c5>\"\u001b[1;36m, line \u001b[1;32m15\u001b[0m\n\u001b[1;33m    report = report.lower()\u001b[0m\n\u001b[1;37m         ^\u001b[0m\n\u001b[1;31mIndentationError\u001b[0m\u001b[1;31m:\u001b[0m expected an indented block\n"
     ]
    }
   ],
   "source": [
    "#non-tokenized\n",
    "#temperature rule\n",
    "\n",
    "rule = \"temperature\"\n",
    "\n",
    "length = len(report)\n",
    "\n",
    "temperature_prefixes = [\"temperature\", \"temperature is\", \"temperature was\"]\n",
    "temperature_context_length = 30\n",
    "\n",
    "for candidate in temp_candidate:\n",
    "    \n",
    "##pre-process report\n",
    "#all lowercase\n",
    "report = report.lower()\n",
    "for item in range(length):\n",
    "    #temperature rule (non-tokenized)\n",
    "    if rule == \"temperature\":\n",
    "        #check temperature format\n",
    "        \n",
    "        #if report[item].isdigit() and report[item+1].isdigit() and report[item+2] == \".\" and report[item+3].isdigit():\n",
    "            #check prefix\n",
    "            if report[item-30:item].contains()\n",
    "                print(report[item:item+4])\n",
    "            \n",
    "        "
   ]
  },
  {
   "cell_type": "code",
   "execution_count": 33,
   "metadata": {},
   "outputs": [
    {
     "name": "stdout",
     "output_type": "stream",
     "text": [
      "96.7\n"
     ]
    }
   ],
   "source": [
    "#temperature rule\n",
    "\n",
    "rule = \"temperature\"\n",
    "\n",
    "contents = contents.replace(\",\",\"\")\n",
    "contents = contents.split()\n",
    "print(contents)\n",
    "\n",
    "for token in contents:\n",
    "    #temperature rule (tokenized)\n",
    "    if rule == \"temperature\":\n",
    "        #check for temperature format\n",
    "        if len(token) == 4:\n",
    "            if token[0].isdigit() and token[1].isdigit() and token[2] == \".\" and token[3].isdigit():\n",
    "                #check for context\n",
    "                if print(token)"
   ]
  },
  {
   "cell_type": "code",
   "execution_count": null,
   "metadata": {},
   "outputs": [],
   "source": [
    "# to do extra\n",
    "# tokenized version\n",
    "# implment regex lookbehidn instead of find\n",
    "# improce exeption rules, bisher schließt man evtl fälle aus\n",
    "#code leaner (jsut select temp or )\n",
    "#return candidate nice#\n",
    "#return error message"
   ]
  }
 ],
 "metadata": {
  "kernelspec": {
   "display_name": "Python 3",
   "language": "python",
   "name": "python3"
  },
  "language_info": {
   "codemirror_mode": {
    "name": "ipython",
    "version": 3
   },
   "file_extension": ".py",
   "mimetype": "text/x-python",
   "name": "python",
   "nbconvert_exporter": "python",
   "pygments_lexer": "ipython3",
   "version": "3.7.6"
  }
 },
 "nbformat": 4,
 "nbformat_minor": 4
}

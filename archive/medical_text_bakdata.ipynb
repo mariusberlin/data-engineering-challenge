{
 "cells": [
  {
   "cell_type": "code",
   "execution_count": 170,
   "metadata": {},
   "outputs": [],
   "source": [
    "import re\n",
    "import sys"
   ]
  },
  {
   "cell_type": "code",
   "execution_count": 265,
   "metadata": {},
   "outputs": [
    {
     "name": "stdout",
     "output_type": "stream",
     "text": [
      "the baby is an ex-32 weeks small for gestational age infant with birth weight 1102. baby was born at abcd hospital at 1333 on 07/14/2006. mother is a 20-year-old gravida 1, para 0 female who received prenatal care. prenatal course was complicated by low amniotic fluid index and hypertension. she was evaluated for evolving preeclampsia and had a c-section secondary to the nonreassuring fetal status. baby delivered operatively, apgar scores were 8 and 9 initially taken to level 2 satellite nursery and arrangements were to transfer to children's hospital. infant was transferred to children's hospital for higher level of care, stayed at children's hospital for approximately 2 weeks, and was transferred back to abcd where he stayed until he was discharged on 08/16/2006.\n"
     ]
    }
   ],
   "source": [
    "with open('medreport4.txt') as f:\n",
    "    report = f.read()\n",
    "    report = report.lower()\n",
    "    print(report)"
   ]
  },
  {
   "cell_type": "code",
   "execution_count": 280,
   "metadata": {},
   "outputs": [],
   "source": [
    "def prefix_check(report,cand_position,prefixes,prefix_distance):\n",
    "    prefix_state = False\n",
    "    for prefix in prefixes:\n",
    "        #print(\"prefix:\", prefix)\n",
    "        if report[cand_position-prefix_distance:cand_position].find(prefix) != -1:\n",
    "            prefix_state = True\n",
    "    #print(\"prefix_tate:\", prefix_state)\n",
    "    return prefix_state  \n",
    "\n",
    "def suffix_check(report,cand_position,suffixes,suffix_distance):\n",
    "    suffix_state = False\n",
    "    for suffix in suffixes:\n",
    "        if report[cand_position:cand_position+len(candidate)+suffix_distance].find(suffix) !=-1:\n",
    "            suffix_state = True\n",
    "    #print(\"suffix_tate:\", suffix_state)\n",
    "    return suffix_state \n",
    "            \n",
    "def exception_check(report,cand_position,exception,exception_distance):\n",
    "    exception_state = False\n",
    "    for ex in exception:\n",
    "        if report[cand_position-temp_exception_distance:cand_position+len(temp)+temp_exception_distance].find(ex) != -1:\n",
    "            exception_state = True\n",
    "    #print(\"Exception_tate:\", exception_state)\n",
    "    return exception_state \n",
    "        "
   ]
  },
  {
   "cell_type": "code",
   "execution_count": 281,
   "metadata": {},
   "outputs": [
    {
     "name": "stdout",
     "output_type": "stream",
     "text": [
      "['20-year-old', 'ex-32 weeks']\n"
     ]
    }
   ],
   "source": [
    "\n",
    "#age rule\n",
    "temp_candidates = re.findall('\\d{1,2}\\-[a-z]{3,4}\\-[o,l,d]{3}',report) +  re.findall('[e,x]{1,2}\\-\\d{2}\\s[a-z]{3,5}',report) #covers xx-year/week/day format and ex-XX weeks/week/day format\n",
    "\n",
    "temp_prefixes = [\"female\",\"male\",\"patient\",\"child\",\"baby\"] #also covers:, \"temperature is\", \"temperature was\",\"temperature of\", \"temperature:\"\n",
    "temp_prefix_distance = 15\n",
    "temp_suffixes =[\"gentlemen\",\"women\",\"man\",\"male\",\"female\"] #also covers:\"degree\",\"degrees\"\n",
    "temp_suffix_distance = 15\n",
    "temp_exception =[\"father\",\"dad\",\"mother\",\"mom\",\"grandma\", \"grandpa\",\"sister\",\"brother\",\"uncle\",\"aunt\", \"friend\",\"wife\",\"husband\",\"partner\",\"spouse\"] \n",
    "temp_exception_distance = 30\n",
    "\n",
    "print(temp_candidates)"
   ]
  },
  {
   "cell_type": "code",
   "execution_count": 282,
   "metadata": {},
   "outputs": [
    {
     "name": "stdout",
     "output_type": "stream",
     "text": [
      "['20-year-old', 'ex-32 weeks']\n",
      "ex-32 weeks\n",
      "Temperature:  ex-32 weeks\n"
     ]
    }
   ],
   "source": [
    "\n",
    "print(temp_candidates)\n",
    "'''\n",
    "temp_prefixes = [\"temperature\"] #also covers:, \"temperature is\", \"temperature was\",\"temperature of\", \"temperature:\"\n",
    "temp_prefix_distance = 20\n",
    "temp_suffixes =[\"deg\",\"celsius\",\"fahrenheit\"] #also covers:\"degree\",\"degrees\"\n",
    "temp_suffix_distance = 15\n",
    "temp_exception =[\"down from\",\"gained\",\"increased\",\"decreased\",\"days ago\",\"week ago\"] #includes increased by, increased to\n",
    "temp_exception_distance = 30\n",
    "\n",
    "'''\n",
    "return_values = []\n",
    "\n",
    "for candidate in temp_candidates:\n",
    "    \n",
    "    \n",
    "    cand_position = report.find(candidate)\n",
    "\n",
    "    #check temperature prefix/suffix/exception\n",
    "    prefix_state = prefix_check(report=report,cand_position=cand_position,prefixes=temp_prefixes,prefix_distance=temp_prefix_distance)\n",
    "    suffix_state = suffix_check(report,cand_position=cand_position,suffixes=temp_suffixes,suffix_distance=temp_suffix_distance)        \n",
    "    exception_state = exception_check(report,cand_position= cand_position,exception =temp_exception, exception_distance=temp_exception_distance)\n",
    "    \n",
    "    if ((prefix_state == True) or (suffix_state == True)) & (exception_state == False):\n",
    "        print(candidate)\n",
    "        return_values.append(candidate)\n",
    "        \n",
    "if len(return_values) == 1:\n",
    "    print(\"Temperature: \", return_values[0])\n",
    "\n",
    "elif len(return_values) > 1:\n",
    "    print(\"Multiple values found: \", return_values)\n",
    "            \n",
    "elif len(return_values) == 0:\n",
    "    print(\"No value was found.\")\n",
    "        \n",
    "    \n",
    "    \n",
    "\n",
    "\n"
   ]
  },
  {
   "cell_type": "code",
   "execution_count": 175,
   "metadata": {},
   "outputs": [
    {
     "ename": "IndentationError",
     "evalue": "expected an indented block (<ipython-input-175-b5c0929066c5>, line 15)",
     "output_type": "error",
     "traceback": [
      "\u001b[1;36m  File \u001b[1;32m\"<ipython-input-175-b5c0929066c5>\"\u001b[1;36m, line \u001b[1;32m15\u001b[0m\n\u001b[1;33m    report = report.lower()\u001b[0m\n\u001b[1;37m         ^\u001b[0m\n\u001b[1;31mIndentationError\u001b[0m\u001b[1;31m:\u001b[0m expected an indented block\n"
     ]
    }
   ],
   "source": [
    "#non-tokenized\n",
    "#temperature rule\n",
    "\n",
    "rule = \"temperature\"\n",
    "\n",
    "length = len(report)\n",
    "\n",
    "temperature_prefixes = [\"temperature\", \"temperature is\", \"temperature was\"]\n",
    "temperature_context_length = 30\n",
    "\n",
    "for candidate in temp_candidate:\n",
    "    \n",
    "##pre-process report\n",
    "#all lowercase\n",
    "report = report.lower()\n",
    "for item in range(length):\n",
    "    #temperature rule (non-tokenized)\n",
    "    if rule == \"temperature\":\n",
    "        #check temperature format\n",
    "        \n",
    "        #if report[item].isdigit() and report[item+1].isdigit() and report[item+2] == \".\" and report[item+3].isdigit():\n",
    "            #check prefix\n",
    "            if report[item-30:item].contains()\n",
    "                print(report[item:item+4])\n",
    "            \n",
    "        "
   ]
  },
  {
   "cell_type": "code",
   "execution_count": 33,
   "metadata": {},
   "outputs": [
    {
     "name": "stdout",
     "output_type": "stream",
     "text": [
      "96.7\n"
     ]
    }
   ],
   "source": [
    "#temperature rule\n",
    "\n",
    "rule = \"temperature\"\n",
    "\n",
    "contents = contents.replace(\",\",\"\")\n",
    "contents = contents.split()\n",
    "print(contents)\n",
    "\n",
    "for token in contents:\n",
    "    #temperature rule (tokenized)\n",
    "    if rule == \"temperature\":\n",
    "        #check for temperature format\n",
    "        if len(token) == 4:\n",
    "            if token[0].isdigit() and token[1].isdigit() and token[2] == \".\" and token[3].isdigit():\n",
    "                #check for context\n",
    "                if print(token)"
   ]
  },
  {
   "cell_type": "code",
   "execution_count": null,
   "metadata": {},
   "outputs": [],
   "source": [
    "# to do extra\n",
    "# tokenized version\n",
    "# implment regex lookbehidn instead of find\n",
    "# improce exeption rules, bisher schließt man evtl fälle aus\n",
    "#code leaner (jsut select temp or )\n",
    "#return candidate nice#\n",
    "#return error message"
   ]
  },
  {
   "cell_type": "code",
   "execution_count": 204,
   "metadata": {},
   "outputs": [
    {
     "name": "stdout",
     "output_type": "stream",
     "text": [
      "5\n"
     ]
    }
   ],
   "source": [
    "string = \"test string\"\n",
    "\n",
    "print(string.find(\"string\"))"
   ]
  },
  {
   "cell_type": "code",
   "execution_count": null,
   "metadata": {},
   "outputs": [],
   "source": []
  }
 ],
 "metadata": {
  "kernelspec": {
   "display_name": "Python 3",
   "language": "python",
   "name": "python3"
  },
  "language_info": {
   "codemirror_mode": {
    "name": "ipython",
    "version": 3
   },
   "file_extension": ".py",
   "mimetype": "text/x-python",
   "name": "python",
   "nbconvert_exporter": "python",
   "pygments_lexer": "ipython3",
   "version": "3.7.6"
  }
 },
 "nbformat": 4,
 "nbformat_minor": 4
}
